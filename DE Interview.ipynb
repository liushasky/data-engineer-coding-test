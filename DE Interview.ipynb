{
 "cells": [
  {
   "cell_type": "code",
   "execution_count": 1,
   "metadata": {},
   "outputs": [],
   "source": [
    "def spin_words(sentence):\n",
    "    # Your code goes here\n",
    "    if len(sentence) == 0:\n",
    "        return None\n",
    "    words = sentence.split(\" \")\n",
    "    for wordindex,word in enumerate(words):\n",
    "        if len(word)>=5:\n",
    "            words[wordindex] = \"\".join( i for i in reversed(word))\n",
    "#     print words\n",
    "    return \" \".join(word for word in words)"
   ]
  },
  {
   "cell_type": "code",
   "execution_count": 4,
   "metadata": {},
   "outputs": [],
   "source": [
    "def spin_words(sentence):\n",
    "    # Your code goes here\n",
    "    return \" \".join([x[::-1] if len(x) >= 5 else x for x in sentence.split(\" \")])"
   ]
  },
  {
   "cell_type": "code",
   "execution_count": 6,
   "metadata": {},
   "outputs": [
    {
     "name": "stdout",
     "output_type": "stream",
     "text": [
      "[1, 2, 3, 4, 5, 6]\n"
     ]
    }
   ],
   "source": [
    "# List Comprehensions\n",
    "\n",
    "nums = [1, 2, 3, 4, 5, 6]\n",
    "my_list = [n for n in nums]\n",
    "print(my_list)"
   ]
  },
  {
   "cell_type": "code",
   "execution_count": 7,
   "metadata": {},
   "outputs": [
    {
     "name": "stdout",
     "output_type": "stream",
     "text": [
      "[1, 4, 9, 16, 25, 36]\n"
     ]
    }
   ],
   "source": [
    "my_list = [n*n for n in nums]\n",
    "print(my_list)"
   ]
  },
  {
   "cell_type": "code",
   "execution_count": 9,
   "metadata": {},
   "outputs": [
    {
     "name": "stdout",
     "output_type": "stream",
     "text": [
      "[2, 4, 6]\n"
     ]
    }
   ],
   "source": [
    "my_list = [n for n in nums if n%2 == 0]\n",
    "print(my_list)"
   ]
  },
  {
   "cell_type": "code",
   "execution_count": 13,
   "metadata": {},
   "outputs": [
    {
     "name": "stdout",
     "output_type": "stream",
     "text": [
      "{'Bruce': 'Batman', 'Clark': 'Superman', 'Peter': 'Spiderman'}\n"
     ]
    }
   ],
   "source": [
    "names = ['Bruce', 'Clark', 'Peter']\n",
    "heros = ['Batman', 'Superman', 'Spiderman']\n",
    "\n",
    "my_dict = {name: hero for name, hero in zip(names, heros)}\n",
    "print(my_dict)"
   ]
  },
  {
   "cell_type": "code",
   "execution_count": 26,
   "metadata": {},
   "outputs": [
    {
     "name": "stdout",
     "output_type": "stream",
     "text": [
      "{1, 2, 3, 4, 5, 6}\n"
     ]
    }
   ],
   "source": [
    "nums = [1, 1, 2, 2, 3, 4, 5, 6]\n",
    "my_set = {n for n in nums}\n",
    "print(my_set)"
   ]
  },
  {
   "cell_type": "code",
   "execution_count": 17,
   "metadata": {},
   "outputs": [
    {
     "name": "stdout",
     "output_type": "stream",
     "text": [
      "1\n",
      "1\n",
      "2\n",
      "2\n",
      "3\n",
      "4\n",
      "5\n",
      "6\n"
     ]
    }
   ],
   "source": [
    "for i in my_set:\n",
    "    print(i)"
   ]
  },
  {
   "cell_type": "code",
   "execution_count": 73,
   "metadata": {},
   "outputs": [
    {
     "data": {
      "text/plain": [
       "'1 2 3'"
      ]
     },
     "execution_count": 73,
     "metadata": {},
     "output_type": "execute_result"
    }
   ],
   "source": [
    "# Alphabet position in python\n",
    "def alphabet_position(text):\n",
    "    return ' '.join(str(ord(c) - 96) for c in text.lower() if c.isalpha())\n",
    "\n",
    "\n",
    "alphabet_position(\"abc\")"
   ]
  },
  {
   "cell_type": "code",
   "execution_count": 97,
   "metadata": {},
   "outputs": [
    {
     "data": {
      "text/plain": [
       "'97'"
      ]
     },
     "execution_count": 97,
     "metadata": {},
     "output_type": "execute_result"
    }
   ],
   "source": [
    "str(ord('a'))"
   ]
  },
  {
   "cell_type": "code",
   "execution_count": 27,
   "metadata": {},
   "outputs": [],
   "source": [
    "# Unique In Order\n",
    "from itertools import groupby\n",
    "\n",
    "def unique_in_order(iterable):\n",
    "    return [k for (k, _) in groupby(iterable)]"
   ]
  },
  {
   "cell_type": "code",
   "execution_count": 28,
   "metadata": {},
   "outputs": [],
   "source": [
    "# Bouncung Ball\n",
    "def bouncingBall(h, bounce, window):\n",
    "    if  h > 0 and window < h and bounce > 0 and bounce <1:\n",
    "        ct=1\n",
    "        while bounce*h > window:\n",
    "            ct += 2\n",
    "            h *= bounce\n",
    "        return ct\n",
    "    else:\n",
    "        return -1"
   ]
  },
  {
   "cell_type": "code",
   "execution_count": 31,
   "metadata": {},
   "outputs": [],
   "source": [
    "# Vasya - Clerk\n",
    "def tickets(a):\n",
    "    n25 = n50 = n100 = 0\n",
    "    for e in a:\n",
    "        if   e==25            : n25+=1\n",
    "        elif e==50            : n25-=1; n50+=1\n",
    "        elif e==100 and n50>0 : n25-=1; n50-=1\n",
    "        elif e==100 and n50==0: n25-=3\n",
    "        if n25<0 or n50<0:\n",
    "            return 'NO'\n",
    "    return 'YES'"
   ]
  },
  {
   "cell_type": "code",
   "execution_count": 32,
   "metadata": {},
   "outputs": [],
   "source": [
    "# tribonacci\n",
    "def tribonacci(signature, n):\n",
    "    for i in range(3,n): \n",
    "        signature.append(signature[i-1] + signature[i-2] + signature[i-3])\n",
    "    return signature[0:n]\n"
   ]
  },
  {
   "cell_type": "code",
   "execution_count": 36,
   "metadata": {},
   "outputs": [
    {
     "data": {
      "text/plain": [
       "'ppl'"
      ]
     },
     "execution_count": 36,
     "metadata": {},
     "output_type": "execute_result"
    }
   ],
   "source": [
    "# 1.Your task is to write a function that takes a string and \n",
    "# return a new string with all vowels removed.\n",
    "# For example, the string \"This website is for losers LOL!\" would become \"Ths wbst s fr lsrs LL!\". \n",
    "# Note: for this kata y isn't considered a vowel.\n",
    "\n",
    "def disemvowel(string):\n",
    "    return \"\".join(i for i in string if i not in \"AEIOUaeiou\")\n",
    "disemvowel(\"apple\")"
   ]
  },
  {
   "cell_type": "code",
   "execution_count": 38,
   "metadata": {},
   "outputs": [
    {
     "name": "stdout",
     "output_type": "stream",
     "text": [
      "############5616\n"
     ]
    }
   ],
   "source": [
    "cc = '4556364607935616'\n",
    "\n",
    "def maskify(cc):\n",
    "    new_string = ''\n",
    "    if len(cc) > 4:\n",
    "        new_string += '#' * (len(cc) - 4) + cc[-4:]\n",
    "    else:\n",
    "        return cc\n",
    "    return new_string\n",
    "\n",
    "print(maskify(cc))"
   ]
  },
  {
   "cell_type": "code",
   "execution_count": 50,
   "metadata": {},
   "outputs": [
    {
     "name": "stdout",
     "output_type": "stream",
     "text": [
      "############5616\n"
     ]
    }
   ],
   "source": [
    "# Mask\n",
    "def maskify(cc):\n",
    "    return \"#\"*(len(cc)-4) + cc[-4:]\n",
    "cc = '4556364607935616'\n",
    "print(maskify(cc))"
   ]
  },
  {
   "cell_type": "code",
   "execution_count": 51,
   "metadata": {},
   "outputs": [],
   "source": [
    "# Binnary\n",
    "\n",
    "def add_binary(a,b):\n",
    "    return bin(a+b).lstrip('0b')"
   ]
  },
  {
   "cell_type": "code",
   "execution_count": 64,
   "metadata": {},
   "outputs": [],
   "source": [
    "def tribonacci(signature, n):\n",
    "    for i in (3, n):\n",
    "        signature.append(signature[i-1] + signature[i-2] + signature[i-3])\n",
    "    return signature[0,n]"
   ]
  },
  {
   "cell_type": "code",
   "execution_count": 63,
   "metadata": {},
   "outputs": [
    {
     "name": "stdout",
     "output_type": "stream",
     "text": [
      "[0, 1, 2, 3, 4]\n"
     ]
    }
   ],
   "source": [
    "a=[]\n",
    "for i in range(5):    \n",
    "    a.append(i)\n",
    "print(a)"
   ]
  },
  {
   "cell_type": "code",
   "execution_count": 65,
   "metadata": {},
   "outputs": [],
   "source": [
    "# WALK\n",
    "\n",
    "def isValidWalk(walk):\n",
    "    if len(walk) != 10:\n",
    "        return False\n",
    "    if walk.count('n') == walk.count('s'):\n",
    "        if walk.count('w') == walk.count('e'):\n",
    "            return True\n",
    "    return false\n"
   ]
  },
  {
   "cell_type": "code",
   "execution_count": 68,
   "metadata": {},
   "outputs": [],
   "source": [
    "def isValidWalk(walk):\n",
    "    return len(walk) == 10 and walk.count('n') == walk.count('s') and walk.count('e') == walk.count('w')"
   ]
  },
  {
   "cell_type": "code",
   "execution_count": 66,
   "metadata": {},
   "outputs": [],
   "source": [
    "# First non repeating letter\n",
    "def first_non_repeating_letter(string):\n",
    "    string_lower = string.lower()\n",
    "    for i, letter in enumerate(string_lower):\n",
    "        if string_lower.count(letter) == 1:\n",
    "            return string[i]\n",
    "            \n",
    "    return \"\""
   ]
  },
  {
   "cell_type": "code",
   "execution_count": 84,
   "metadata": {},
   "outputs": [
    {
     "data": {
      "text/plain": [
       "['s']"
      ]
     },
     "execution_count": 84,
     "metadata": {},
     "output_type": "execute_result"
    }
   ],
   "source": [
    "def first_non_repeating_letter(s):\n",
    "    x = [i for i in s if (s.lower()).count(i) == 1]\n",
    "    return x\n",
    "first_non_repeating_letter(\"aATst\") "
   ]
  },
  {
   "cell_type": "code",
   "execution_count": 67,
   "metadata": {},
   "outputs": [],
   "source": [
    "def xo(s):\n",
    "    s = s.lower()\n",
    "    return s.count('x') == s.count('o')"
   ]
  },
  {
   "cell_type": "code",
   "execution_count": 85,
   "metadata": {},
   "outputs": [],
   "source": [
    "# Printer error\n",
    "def printer_error(s):\n",
    "    ct = 0\n",
    "    for e in s:\n",
    "        if e not in \"abcdefghijklm\":\n",
    "            ct += 1\n",
    "    return str(ct) + '/' + str(len(s))\n"
   ]
  },
  {
   "cell_type": "code",
   "execution_count": 92,
   "metadata": {},
   "outputs": [
    {
     "name": "stdout",
     "output_type": "stream",
     "text": [
      "2/3\n"
     ]
    }
   ],
   "source": [
    "from re import sub\n",
    "def printer_error(s):\n",
    "    return \"{}/{}\".format(len(sub(\"[a-m]\", \"\", s)), len(s))\n",
    "\n",
    "print(printer_error('ssa'))"
   ]
  },
  {
   "cell_type": "code",
   "execution_count": 93,
   "metadata": {},
   "outputs": [],
   "source": [
    "# Camel Case\n",
    "def to_camel_case(s):\n",
    "    return s[0] + s.title().replace(\"-\", \"\").replace(\"_\", \"\")[1:] if s else s"
   ]
  },
  {
   "cell_type": "code",
   "execution_count": 94,
   "metadata": {},
   "outputs": [],
   "source": [
    "def likes(names):\n",
    "    # make a dictionary d of all the possible answers. Keys are the respective number\n",
    "    # of people who liked it.\n",
    "    \n",
    "    # {} indicate placeholders. They do not need any numbers but are simply replaced/formatted\n",
    "    # in the order the arguments in names are given to format\n",
    "    # {others} can be replaced by its name; below the argument \"others = length - 2\"\n",
    "    # is passed to str.format()\n",
    "    d = {\n",
    "        0: \"no one likes this\",\n",
    "        1: \"{} likes this\",\n",
    "        2: \"{} and {} like this\",\n",
    "        3: \"{}, {} and {} like this\",\n",
    "        4: \"{}, {} and {others} others like this\"\n",
    "        }\n",
    "    length = len(names)\n",
    "    # d[min(4, length)] insures that the appropriate string is called from the dictionary\n",
    "    # and subsequently returned. Min is necessary as len(names) may be > 4\n",
    "    \n",
    "    # The * in *names ensures that the list names is blown up and that format is called\n",
    "    # as if each item in names was passed to format individually, i. e.\n",
    "    # format(names[0], names[1], .... , names[n], others = length - 2\n",
    "    return d[min(4, length)].format(*names, others = length - 2)\n",
    "    "
   ]
  },
  {
   "cell_type": "code",
   "execution_count": 95,
   "metadata": {},
   "outputs": [],
   "source": [
    "def likes(names):\n",
    "    if len(names) == 0:\n",
    "        return 'no one likes this'\n",
    "    elif len(names) == 1:\n",
    "        return str(names[0]+' likes this')\n",
    "    elif len(names) == 2:\n",
    "        return str(names[0]+' and '+names[1]+' like this')\n",
    "    elif len(names) == 3:\n",
    "        return str(names[0]+', '+names[1]+' and '+names[2]+' like this')\n",
    "    else:\n",
    "        return str(names[0]+', '+names[1]+' and '+str(len(names)-2)+' others like this')"
   ]
  },
  {
   "cell_type": "code",
   "execution_count": 96,
   "metadata": {},
   "outputs": [],
   "source": [
    "seen = set()\n",
    "uniq = [x for x in a if x not in seen and not seen.add(x)] "
   ]
  },
  {
   "cell_type": "code",
   "execution_count": 98,
   "metadata": {},
   "outputs": [
    {
     "data": {
      "text/plain": [
       "[4, 6, 3]"
      ]
     },
     "execution_count": 98,
     "metadata": {},
     "output_type": "execute_result"
    }
   ],
   "source": [
    "def solve(arr): \n",
    "    re = []\n",
    "    for i in arr[::-1]:\n",
    "        if i not in re:\n",
    "            re.append(i)\n",
    "    return re[::-1]\n",
    "\n",
    "solve([3,4,4,3,6,3])"
   ]
  },
  {
   "cell_type": "code",
   "execution_count": null,
   "metadata": {},
   "outputs": [],
   "source": [
    "def solve(arr): \n",
    "    return list(dict.fromkeys(arr[::-1]))[::-1]"
   ]
  },
  {
   "cell_type": "code",
   "execution_count": 100,
   "metadata": {},
   "outputs": [
    {
     "data": {
      "text/plain": [
       "[3, 4, 6]"
      ]
     },
     "execution_count": 100,
     "metadata": {},
     "output_type": "execute_result"
    }
   ],
   "source": [
    "arr = [3,4,4,3,6,3]\n",
    "list(dict.fromkeys(arr))"
   ]
  },
  {
   "cell_type": "code",
   "execution_count": 106,
   "metadata": {},
   "outputs": [
    {
     "data": {
      "text/plain": [
       "[4, 6, 3]"
      ]
     },
     "execution_count": 106,
     "metadata": {},
     "output_type": "execute_result"
    }
   ],
   "source": [
    "def solve(arr): \n",
    "    list = arr.copy()\n",
    "    for i in arr:\n",
    "        if list.count(i) > 1:\n",
    "            list.remove(i)\n",
    "    return list\n",
    "\n",
    "solve([3,4,4,3,6,3])"
   ]
  },
  {
   "cell_type": "code",
   "execution_count": null,
   "metadata": {},
   "outputs": [],
   "source": []
  },
  {
   "cell_type": "code",
   "execution_count": null,
   "metadata": {},
   "outputs": [],
   "source": []
  },
  {
   "cell_type": "code",
   "execution_count": null,
   "metadata": {},
   "outputs": [],
   "source": []
  }
 ],
 "metadata": {
  "kernelspec": {
   "display_name": "Python 3",
   "language": "python",
   "name": "python3"
  },
  "language_info": {
   "codemirror_mode": {
    "name": "ipython",
    "version": 3
   },
   "file_extension": ".py",
   "mimetype": "text/x-python",
   "name": "python",
   "nbconvert_exporter": "python",
   "pygments_lexer": "ipython3",
   "version": "3.7.3"
  }
 },
 "nbformat": 4,
 "nbformat_minor": 2
}
