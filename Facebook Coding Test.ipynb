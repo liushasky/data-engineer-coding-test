{
 "cells": [
  {
   "cell_type": "markdown",
   "metadata": {},
   "source": [
    "## Blind all questions"
   ]
  },
  {
   "cell_type": "code",
   "execution_count": null,
   "metadata": {},
   "outputs": [],
   "source": [
    "https://www.teamblind.com/post/Facebook-Data-Engineer-interview-prep-help-hfGjWggm"
   ]
  },
  {
   "cell_type": "markdown",
   "metadata": {},
   "source": [
    "## Glassdoor"
   ]
  },
  {
   "cell_type": "markdown",
   "metadata": {},
   "source": [
    "1. Replace None value with previous value present in a list.\n",
    "2. Given a ´dictionary, print the key for nth highest value present in the dict. If there are more than 1 record present for nth highest value then sort the key and print the first one.\n",
    "3. Given two sentences, you have to print the words those are not present in either of the sentences.(If one word is present twice in 1st sentence but not present in 2nd sentence then you have to print that word too)\n",
    "4. Forgot another question\n",
    "you have to pass all the cases, specially on edge cases."
   ]
  },
  {
   "cell_type": "markdown",
   "metadata": {},
   "source": [
    "1. Replace None value with previous value present in a list."
   ]
  },
  {
   "cell_type": "code",
   "execution_count": 173,
   "metadata": {},
   "outputs": [
    {
     "name": "stdout",
     "output_type": "stream",
     "text": [
      "Replaced None List: [1, 4, 4, 4, 3]\n"
     ]
    }
   ],
   "source": [
    "A = [1,4,None,None,3]\n",
    "def none_replace(ls):\n",
    "    ret = []\n",
    "    prev_val = None\n",
    "    for i in ls:\n",
    "        if i is not None:\n",
    "            prev_val = i\n",
    "            ret.append(i)\n",
    "        else:\n",
    "            ret.append(prev_val)\n",
    "    return ret\n",
    "\n",
    "print('Replaced None List:', none_replace(A))"
   ]
  },
  {
   "cell_type": "markdown",
   "metadata": {},
   "source": [
    "2. Given a ´dictionary, print the key for nth highest value present in the dict. If there are more than 1 record present for nth highest value then sort the key and print the first one."
   ]
  },
  {
   "cell_type": "code",
   "execution_count": 195,
   "metadata": {},
   "outputs": [
    {
     "data": {
      "text/plain": [
       "'d'"
      ]
     },
     "execution_count": 195,
     "metadata": {},
     "output_type": "execute_result"
    }
   ],
   "source": [
    "# method without import any packages\n",
    "def smallestkey(dt, N):\n",
    "    if N == 0:\n",
    "        return print(\"There is no highest value\")\n",
    "    else:\n",
    "        highestN = dict(sorted(dt.items(), key = lambda x: x[1], reverse = True)[:N])\n",
    "        smallestkey = min(highestN.items(), key = lambda x:x[1])[0]\n",
    "        return smallestkey\n",
    "mydict = {'a': 1, 'b': 2, 'c': 100, 'd': 30}\n",
    "smallestkey(mydict, 2)"
   ]
  },
  {
   "cell_type": "code",
   "execution_count": 197,
   "metadata": {},
   "outputs": [
    {
     "data": {
      "text/plain": [
       "'d'"
      ]
     },
     "execution_count": 197,
     "metadata": {},
     "output_type": "execute_result"
    }
   ],
   "source": [
    "def smallestkey(d, N):\n",
    "    if N == 0:\n",
    "        return None\n",
    "    else:\n",
    "#         highestN = dict(sorted(dt.items(), key = lambda x: x[1], reverse = True)[:N])\n",
    "        highestN = dict(sorted(d.items(), key = lambda x: x[1], reverse = True)[:N])\n",
    "        minkey = min(highestN.items(), key = lambda x: x[1])[0]\n",
    "        return minkey\n",
    "mydict = {'a': 1, 'b': 2, 'c': 100, 'd': 30}\n",
    "smallestkey(mydict, 2)"
   ]
  },
  {
   "cell_type": "code",
   "execution_count": 198,
   "metadata": {},
   "outputs": [
    {
     "name": "stdout",
     "output_type": "stream",
     "text": [
      "is\n"
     ]
    }
   ],
   "source": [
    "from operator import itemgetter\n",
    "# Initialize dictionary\n",
    "test_dict = {'gfg' : 1, 'is' : 4, 'best' : 6, 'for' : 7, 'geeks' : 3 }\n",
    "N = 3\n",
    "res = dict(sorted(test_dict.items(), key = itemgetter(1), reverse = True)[:N])\n",
    "# print(res)\n",
    "highestN = min(res.items(), key = lambda x: x[1])\n",
    "print(highestN[0])"
   ]
  },
  {
   "cell_type": "markdown",
   "metadata": {},
   "source": [
    "3. Given two sentences, you have to print the words those are not present in either of the sentences.(If one word is present twice in 1st sentence but not present in 2nd sentence then you have to print that word too)"
   ]
  },
  {
   "cell_type": "code",
   "execution_count": 61,
   "metadata": {},
   "outputs": [],
   "source": [
    "# Given two sentences, you have to print the words those are not present in either of the sentences.\n",
    "def list_difference(A, B):\n",
    "    if len(a) == 0:\n",
    "    return set(A.split(' ')) ^ set(B.split(' '))"
   ]
  },
  {
   "cell_type": "code",
   "execution_count": 62,
   "metadata": {},
   "outputs": [
    {
     "name": "stdout",
     "output_type": "stream",
     "text": [
      "{'Learning', 'from'}\n"
     ]
    }
   ],
   "source": [
    "#Driver code\n",
    "A = \"Geeks for Geeks\" \n",
    "B = \"Learning from Geeks for Geeks\"\n",
    "print(list_difference(A, B))"
   ]
  },
  {
   "cell_type": "markdown",
   "metadata": {},
   "source": [
    "https://leetcode.com/discuss/interview-question/1146384/fb-de-python-questions\n",
    "\n",
    "1. Given an array of integers, we would like to determine whether the array is monotonic (non-decreasing/non-increasing) or not."
   ]
  },
  {
   "cell_type": "code",
   "execution_count": 192,
   "metadata": {},
   "outputs": [
    {
     "data": {
      "text/plain": [
       "True"
      ]
     },
     "execution_count": 192,
     "metadata": {},
     "output_type": "execute_result"
    }
   ],
   "source": [
    "def isMontonic(A):\n",
    "    return (all(A[i] <= A[i+1] for i in range(len(A)-1) or all(A[i] >= A[i+1] for i in range(len(A)-1))))\n",
    "\n",
    "exp = [1, 2, 3]\n",
    "isMontonic(exp)"
   ]
  },
  {
   "cell_type": "markdown",
   "metadata": {},
   "source": [
    "2. Replace None with previous element from List, there was some challenges\n",
    "[1,4,None,None,3]===> [1,4,4,4,3] (take care of first string being None)"
   ]
  },
  {
   "cell_type": "code",
   "execution_count": 203,
   "metadata": {},
   "outputs": [
    {
     "name": "stdout",
     "output_type": "stream",
     "text": [
      "Replaced None List: [None, None]\n"
     ]
    }
   ],
   "source": [
    "A = [1,4,None,None,3]\n",
    "def none_replace(A):\n",
    "    p = None\n",
    "    res = []\n",
    "    if A[0] == None:\n",
    "        res.append(A[0])\n",
    "    for i in A:\n",
    "        if not i:\n",
    "            p = i\n",
    "            res.append(p)\n",
    "    return res\n",
    "print('Replaced None List:', none_replace(A))"
   ]
  },
  {
   "cell_type": "code",
   "execution_count": 86,
   "metadata": {
    "scrolled": true
   },
   "outputs": [
    {
     "name": "stdout",
     "output_type": "stream",
     "text": [
      "Replaced None List: [1, 4, 4, 4, 3]\n"
     ]
    }
   ],
   "source": [
    "A = [1,4,None,None,3]\n",
    "def non_replace(A):\n",
    "    p = None\n",
    "    res = []\n",
    "    for i in A:\n",
    "        if i is not None:\n",
    "            p = i\n",
    "            res.append(i)\n",
    "        else:\n",
    "            res.append(p)\n",
    "    return res\n",
    "print('Replaced None List:', none_replace(A))"
   ]
  },
  {
   "cell_type": "markdown",
   "metadata": {},
   "source": [
    "3. find s in missisipi - print the index"
   ]
  },
  {
   "cell_type": "code",
   "execution_count": 87,
   "metadata": {},
   "outputs": [
    {
     "name": "stdout",
     "output_type": "stream",
     "text": [
      "the index of s is:  [2, 3, 5, 6]\n"
     ]
    }
   ],
   "source": [
    "l = []\n",
    "for i, char in enumerate('mississippi'):\n",
    "    if char == 's':\n",
    "        l.append(i)\n",
    "print(\"the index of s is: \", l)"
   ]
  },
  {
   "cell_type": "code",
   "execution_count": 199,
   "metadata": {},
   "outputs": [
    {
     "name": "stdout",
     "output_type": "stream",
     "text": [
      "4\n"
     ]
    }
   ],
   "source": [
    "def countl(s, c):\n",
    "    res = 0\n",
    "    for i in range(len(s)):\n",
    "        if s[i] == c:\n",
    "            res += 1\n",
    "    return res\n",
    "# Driver code\n",
    "str= \"geeksforgeeks\"\n",
    "c = 'e'\n",
    "print(countl(str, c))"
   ]
  },
  {
   "cell_type": "markdown",
   "metadata": {},
   "source": [
    "12. Calculate the average word length.\n",
    "    For the given set of words return the average word length.\n",
    "    str.split()"
   ]
  },
  {
   "cell_type": "code",
   "execution_count": 44,
   "metadata": {},
   "outputs": [
    {
     "data": {
      "text/plain": [
       "3.2"
      ]
     },
     "execution_count": 44,
     "metadata": {},
     "output_type": "execute_result"
    }
   ],
   "source": [
    "# Avg length of words, some of the edge cases are having spaces in the beginning and end of the words, \n",
    "#returning a float instead of int, \n",
    "# returning None for blank input.\n",
    "ls = \" i love my baby marco \"\n",
    "\n",
    "def avg_len(ls):\n",
    "    if len(ls.strip()) == 0:\n",
    "        print(\"None\") \n",
    "    else:\n",
    "        res = [len(i) for i in ls.strip().split(' ')]\n",
    "        avg_len = sum(res)/float(len(res))\n",
    "        return avg_len\n",
    "\n",
    "avg_len(ls)"
   ]
  },
  {
   "cell_type": "code",
   "execution_count": 200,
   "metadata": {},
   "outputs": [
    {
     "data": {
      "text/plain": [
       "3.2"
      ]
     },
     "execution_count": 200,
     "metadata": {},
     "output_type": "execute_result"
    }
   ],
   "source": [
    "def avg_len(s):\n",
    "    a = s.strip().split(' ')\n",
    "    if len(a) == 0:\n",
    "        return None\n",
    "    else: \n",
    "        res = [len(i) for i in a]\n",
    "        avg = sum(res)/len(res)\n",
    "    return avg\n",
    "ls = \" i love my baby marco \"\n",
    "avg_len(ls)"
   ]
  },
  {
   "cell_type": "code",
   "execution_count": 52,
   "metadata": {},
   "outputs": [
    {
     "data": {
      "text/plain": [
       "3.2"
      ]
     },
     "execution_count": 52,
     "metadata": {},
     "output_type": "execute_result"
    }
   ],
   "source": [
    "my_string = \" i love my baby marco \"\n",
    "\n",
    "def avglen(ls):\n",
    "    temp = [len(i) for i in ls.strip().split(' ')]\n",
    "    if len(temp) == 0:\n",
    "        res = 0\n",
    "    else:\n",
    "        res = sum(temp)/float(len(temp))\n",
    "    return res\n",
    "avglen(my_string)"
   ]
  },
  {
   "cell_type": "markdown",
   "metadata": {},
   "source": [
    "## 地里 1"
   ]
  },
  {
   "cell_type": "markdown",
   "metadata": {},
   "source": [
    "https://www.1point3acres.com/bbs/thread-686255-1-1.html"
   ]
  },
  {
   "cell_type": "markdown",
   "metadata": {},
   "source": [
    "Python:\n",
    "题目和这个帖子里提到的完全一样，至少前4题均是如此。需要注意的是面试官不让使用built-in modules, e.g. Counter or re，所以我自己写了个counter dictionary计数。\n",
    "\n",
    "test case在coderpad里都能看到，非常有助于想corner case.\n",
    "\n",
    "SQL:\n",
    "1. % of promotion. 和上面引用的帖子一样，case when...then 轻松解决\n",
    "2. X with top 5 Y (抱歉X和Y记不清了）, order by Y in descen‍‍‍‍‍‍‍‌‌‌‍‍‍‌‌‍‍‌‌ding order. Having 即可解决，记得将结果乘以100得到百分数。\n",
    "3. % of sales that had promotion happening on either 1st day or last day of promotion period. 需要inner join两张table + case when, 需要注意的是要将结果从integer转成float，\n",
    "否则只会得到0. 我在data type conversion上我卡了很久，最后用了cast，但感觉面试官不是很满意 = ="
   ]
  },
  {
   "cell_type": "markdown",
   "metadata": {},
   "source": [
    "## 地里 2"
   ]
  },
  {
   "cell_type": "markdown",
   "metadata": {},
   "source": [
    "https://www.1point3acres.com/bbs/forum.php?mod=viewthread&tid=663905&extra=page%3D1%26filter%3Dsortid%26sortid%3D311%26searchoption%5B3088%5D%5Bvalue%5D%3D13%26searchoption%5B3088%5D%5Btype%5D%3Dradio%26searchoption%5B3046%5D%5Bvalue%5D%3D2%26searchoption%5B3046%5D%5Btype%5D%3Dradio%26sortid%3D311%26orderby%3Ddateline"
   ]
  },
  {
   "cell_type": "markdown",
   "metadata": {},
   "source": [
    "2020(7-9月) DataEng 博士 全职@Facebook - 猎头 - 技术电面  | Pass/Offer | 在职跳槽\n",
    "过去的两周一直忙着准备facebook的Data Eng的电面，本人经历了两轮电面 第一轮python + sql，第二轮单独sql，好在有惊无险，顺利通过，但无奈data eng没有head count，只能寄希望于以后有head count之后再onsite。在这里发面经求bless\n",
    "\n",
    "总体感觉是不难，题目都见过，主要压力在于如何在短时间内想到corner case，debug，并顺利把题目做完。\n",
    "这里一句忠告：哪怕是见到之前刷过的题目，不要表现的太过兴奋，先入为主。一定要把题目重新分析一遍。 在写题目之前一定先把思路理顺，跟面试官交流，得到sounds good以后再开始写，这样也会节约很多时间。\n",
    "\n",
    "面试题目跟地里其他人说的题目一样，题库就那么几道题目，python一共5道题，sql也是5道，过的标准大概是3 + 3，第四道题目说个思路就可以了。我python做到了第5题，第四题和第五题都是新题，另外跟大家分享一下我面sql的感觉。\n",
    "\n",
    "Python\n",
    "因为时间紧，任务重，如果题目看不太明白，结合给出的例子或者和面试官交流，务必最短时间知道自己要干什么。题目只要写出来通过test case就行，时间空间复杂度什么的面试官不care，毕竟这个不是software engineer面试\n",
    "[hide 188]\n",
    "1. Fill the None value with previous non None value\n",
    "[1, None, 1, 2, None] --> [1, 1, 1, 2, 2]\n",
    "这个要特别注意None的情况\n",
    "\n",
    "2. Complete a function that returns a list containing all the mismatched words(case sensitive) between two given input strings\n",
    "find_mismatch(\"HOW ARE you\", \"How are you\") --> [\"HOW\", \"ARE\", \"How\", \"are\"]\n",
    "注意这里是case sensitive，所以ARE和are不相同\n",
    "\n",
    "3. Complete a function that returns the number of times a given character occurs in the given string\n",
    "find_occur('missisipi', 's') --> 3\n",
    "设置一个counter，整个string扫一遍\n",
    "\n",
    "4. Complete a function that returns the smallest key(sorted in ascending order alphabetically) of the given input dictionary containing nth hgihest value\n",
    "dictionary: {'a': 1, 'b': 2, 'c': 100, 'd': 30}, n : 2 (2nd highest value)\n",
    "output: 'd'\n",
    "这个题目注意corner case，即n == 0 或者 highest value不存在的情况\n",
    "\n",
    "5. Balance the array\n",
    "Given an array with n elements provide a dictionary of all teh needed elements to balance the array as keys of that dictionary and number of repeated occurraences of each of those elements that are required to balance the given array as values\n",
    "Balance array would be an array containing all elements that appear equal number of times\n",
    "\n",
    "For example:\n",
    "-- input array: [4, 5, 11, 5, 6, 11]\n",
    "-- output: {4: 1, 6: 1}\n",
    "-- We need 1 instance of elements 4 and 1 instance of element 6 in order to balance the given input array where each element would appear max 2 times\n",
    "\n",
    "我的思路：\n",
    "### get all the frequency of the elements\n",
    "### get the maxium frequency\n",
    "### loop through the dictionary\n",
    "### if value < max\n",
    "### include <key, max - value> into final dictionary\n",
    "### return result\n",
    "[/hide]\n",
    "\n",
    "SQL\n",
    "也是时间紧，任务中，尤其碰到拐弯抹角的题目， 不要慌，多和面试官沟通。。。\n",
    "题目就是地里面之前大家分享过的题目，没有新题，没有新问法。我之前的准备目标是as long as it works，但是感觉面试时候需要你写出来最优解，或者接近最优解的解法，所以大家在准备的时候问问自己， 能不能优化代码，减少table join，table scan的次数？\n",
    "window function没有考到，但大家还是熟悉一下，who knows。。。\n",
    "另外，大家一定要好好练习case when的用法，因为题目中有很多这类的问题，算average， percentage，increate‍‍‍‍‍‍‍‌‌‌‍‍‍‌‌‍‍‌‌ rate之类的题目可以统统往上靠。\n",
    "\n",
    "[hide 188]\n",
    "我在一道求percentage of promotion的题目纠结了很久，我之前给出的答案结构类似\n",
    "select(\n",
    "select count(promotion) / select count(*)\n",
    ") as percentage\n",
    "\n",
    "但是面试官更想看到的是case when只用one scan得到结果\n",
    "select avg(case when promotion then 1 else 0 end) as percentage\n",
    "\n",
    "另外还有一个题目关于选既买了A又买了B的顾客，instead of 先选除买A的顾客，在选出买B的顾客，然后算交集，大家可以想一下如何用case when一次把结果做出来。\n",
    "我的想法是：\n",
    "select customer_id, case when product_id = 'A' then 1 else 0 end as product_a, case when product_id = 'B' then 1 else 0 end as product_b\n",
    "from ...\n",
    "group by customer_id\n",
    "having sum(product_a) > 0 and sum(product_b) > 0\n",
    "[/hide]\n",
    "\n",
    "因为之前不熟悉case when的用法，所以sql给我第二次test，明显难度提高了，所以最后涉险过关。。大家好好练习一下高级语法，尤其是case when，争取第一轮顺利通过。\n",
    "\n",
    "如果大家觉得帖子对自己面试过程中有启发，欢迎给我留言，加米，谢谢！\n"
   ]
  },
  {
   "cell_type": "code",
   "execution_count": null,
   "metadata": {},
   "outputs": [],
   "source": [
    "4. Complete a function that returns the smallest key(sorted in ascending order alphabetically) of the given input dictionary containing nth hgihest value\n",
    "dictionary: {'a': 1, 'b': 2, 'c': 100, 'd': 30}, n : 2 (2nd highest value)\n",
    "output: 'd'\n",
    "这个题目注意corner case，即n == 0 或者 highest value不存在的情况"
   ]
  },
  {
   "cell_type": "code",
   "execution_count": 300,
   "metadata": {},
   "outputs": [
    {
     "data": {
      "text/plain": [
       "'d'"
      ]
     },
     "execution_count": 300,
     "metadata": {},
     "output_type": "execute_result"
    }
   ],
   "source": [
    "# method without import any packages\n",
    "def smallestkey(dt, N):\n",
    "    if N == 0:\n",
    "        return print(\"There is no highest value\")\n",
    "    else:\n",
    "        highestN = dict(sorted(dt.items(), key = lambda x: x[1], reverse = True)[:N])\n",
    "        smallestkey = min(highestN.items(), key = lambda x:x[1])[0]\n",
    "        return smallestkey\n",
    "mydict = {'a': 1, 'b': 2, 'c': 100, 'd': 30}\n",
    "smallestkey(mydict, 2)"
   ]
  },
  {
   "cell_type": "markdown",
   "metadata": {},
   "source": [
    "Glassdorr interview questions\n",
    "\n",
    "https://www.glassdoor.com/Interview/SQL-Data-schema-was-provided-SQL-to-be-written-that-used-left-joins-nulls-in-filter-count-func-case-stmt-Python-crea-QTN_4543579.htm"
   ]
  },
  {
   "cell_type": "markdown",
   "metadata": {},
   "source": [
    "#1. Create a histogram:"
   ]
  },
  {
   "cell_type": "code",
   "execution_count": 120,
   "metadata": {},
   "outputs": [
    {
     "name": "stdout",
     "output_type": "stream",
     "text": [
      "**\n",
      "***\n",
      "****\n",
      "*****\n"
     ]
    }
   ],
   "source": [
    "def my_histogram(ip_list):\n",
    "    for i in ip_list:\n",
    "        print(i*'*')\n",
    "\n",
    "ip_list = [2, 3, 4, 5]\n",
    "my_histogram(ip_list)"
   ]
  },
  {
   "cell_type": "markdown",
   "metadata": {},
   "source": [
    "#2. Flatten List using Recursive Function: Recursion is the process of defining something in terms of itself. https://www.programiz.com/python-programming/recursion\n",
    "https://stackabuse.com/python-how-to-flatten-list-of-lists/"
   ]
  },
  {
   "cell_type": "code",
   "execution_count": 127,
   "metadata": {},
   "outputs": [
    {
     "name": "stdout",
     "output_type": "stream",
     "text": [
      "[1, 2, 3, 4, 5]\n"
     ]
    }
   ],
   "source": [
    "def flatten(S):\n",
    "    if S == []:\n",
    "        return S\n",
    "    if isinstance(S[0], type(list)):\n",
    "        return flatten(S[0]) + flatten(S[1:])\n",
    "    return S[:1] + flatten(S[1:])\n",
    "regular_list = [1, 2, [3, [4, [5]]]]\n",
    "print(flatten(regular_list))"
   ]
  },
  {
   "cell_type": "code",
   "execution_count": 128,
   "metadata": {},
   "outputs": [
    {
     "data": {
      "text/plain": [
       "[1, 2, 3, 4, 5]"
      ]
     },
     "execution_count": 128,
     "metadata": {},
     "output_type": "execute_result"
    }
   ],
   "source": [
    "regular_list = [1, 2, [3, [4, [5]]]]\n",
    "def flatten(ls):\n",
    "    if len(ls) == 0:\n",
    "        return ls\n",
    "    if isinstance(ls[0], type(list)):\n",
    "        return flatten(ls[0]) + flatten(ls[1:])\n",
    "    return ls[:1] + flatten(ls[1:])\n",
    "flatten(regular_list)"
   ]
  },
  {
   "cell_type": "code",
   "execution_count": null,
   "metadata": {},
   "outputs": [],
   "source": [
    "#3. Remove dupes from a list"
   ]
  },
  {
   "cell_type": "code",
   "execution_count": 147,
   "metadata": {},
   "outputs": [
    {
     "data": {
      "text/plain": [
       "[1, 3, 5, 6]"
      ]
     },
     "execution_count": 147,
     "metadata": {},
     "output_type": "execute_result"
    }
   ],
   "source": [
    "mylist = [1, 5, 3, 6, 3, 5, 6, 1]\n",
    "list(set(mylist))"
   ]
  },
  {
   "cell_type": "code",
   "execution_count": 152,
   "metadata": {},
   "outputs": [
    {
     "data": {
      "text/plain": [
       "[1, 5, 3, 6]"
      ]
     },
     "execution_count": 152,
     "metadata": {},
     "output_type": "execute_result"
    }
   ],
   "source": [
    "mylist = [1, 5, 3, 6, 3, 5, 6, 1]\n",
    "res = []\n",
    "[res.append(i) for i in mylist if i not in res]\n",
    "res"
   ]
  },
  {
   "cell_type": "markdown",
   "metadata": {},
   "source": [
    "#4. Count words in a sentence"
   ]
  },
  {
   "cell_type": "code",
   "execution_count": 203,
   "metadata": {},
   "outputs": [
    {
     "name": "stdout",
     "output_type": "stream",
     "text": [
      "5\n"
     ]
    }
   ],
   "source": [
    "# Method #1 : Using split()\n",
    "# split function is quite useful and usually quite generic method to get words out of the list, \n",
    "# but this approach fails once we introduce special characters in the list.\n",
    "\n",
    "from collections import Counter\n",
    "\n",
    "def count_unq_words(ip_str):\n",
    "    ip_str=ip_str.lower()\n",
    "    ip_list=ip_str.split()\n",
    "    op = Counter(ip_list)\n",
    "    print(len(op))\n",
    "\n",
    "ip_str=\"Count count words in a sentence\"\n",
    "count_unq_words(ip_str)"
   ]
  },
  {
   "cell_type": "code",
   "execution_count": 303,
   "metadata": {},
   "outputs": [
    {
     "data": {
      "text/plain": [
       "7"
      ]
     },
     "execution_count": 303,
     "metadata": {},
     "output_type": "execute_result"
    }
   ],
   "source": [
    "mylist = \"Geeksforgeeks, is best @# Computer Science Portal.!!!\"\n",
    "len((mylist.lower()).split())"
   ]
  },
  {
   "cell_type": "code",
   "execution_count": 207,
   "metadata": {},
   "outputs": [
    {
     "name": "stdout",
     "output_type": "stream",
     "text": [
      "The original string is : Geeksforgeeks, is best @# Computer Science Portal.!!!\n"
     ]
    },
    {
     "data": {
      "text/plain": [
       "6"
      ]
     },
     "execution_count": 207,
     "metadata": {},
     "output_type": "execute_result"
    }
   ],
   "source": [
    "# using regex (findall())\n",
    "import re\n",
    "\n",
    "# initializing string\n",
    "test_string = \"Geeksforgeeks, is best @# Computer Science Portal.!!!\"\n",
    "\n",
    "# printing original string\n",
    "print (\"The original string is : \" + test_string)\n",
    "\n",
    "# using regex (findall())\n",
    "# to count words in string\n",
    "res = len(re.findall(r'\\w+', test_string))\n",
    "\n",
    "# printing result\n",
    "res\n"
   ]
  },
  {
   "cell_type": "code",
   "execution_count": 208,
   "metadata": {},
   "outputs": [
    {
     "data": {
      "text/plain": [
       "6"
      ]
     },
     "execution_count": 208,
     "metadata": {},
     "output_type": "execute_result"
    }
   ],
   "source": [
    "# Regular expressions have to be used in case we require to handle the cases of punctuation marks or \n",
    "# special characters in the string. This is the most elegant way in which this task can be performed.\n",
    "import re\n",
    "res = len(re.findall(r'\\w+', test_string))\n",
    "res"
   ]
  },
  {
   "cell_type": "markdown",
   "metadata": {},
   "source": [
    "    8. Count distinct words in a sentence"
   ]
  },
  {
   "cell_type": "code",
   "execution_count": 397,
   "metadata": {},
   "outputs": [],
   "source": [
    "words = ['a', 'b', 'c', 'a']\n",
    "unique_words = set(words)             # == set(['a', 'b', 'c'])\n",
    "unique_word_count = len(unique_words) # == 3\n",
    "\n",
    "\n",
    "len(set([\"word1\", \"word1\", \"word2\", \"word3\"]))\n",
    "# set is like a list but it removes duplicates\n",
    "# len counts the number of things inside the set"
   ]
  },
  {
   "cell_type": "markdown",
   "metadata": {},
   "source": [
    "  9. Count the number of times a word appear in a sentence using a Hash Map"
   ]
  },
  {
   "cell_type": "code",
   "execution_count": 396,
   "metadata": {},
   "outputs": [
    {
     "data": {
      "text/plain": [
       "{'the': 2,\n",
       " 'quick': 1,\n",
       " 'brown': 1,\n",
       " 'fox': 1,\n",
       " 'jumps': 1,\n",
       " 'over': 1,\n",
       " 'lazy': 1,\n",
       " 'dog.': 1}"
      ]
     },
     "execution_count": 396,
     "metadata": {},
     "output_type": "execute_result"
    }
   ],
   "source": [
    "def count_w(ls):\n",
    "    ct_dict = {}\n",
    "    for i in ls.split(' '):\n",
    "        if i in ct_dict:\n",
    "            ct_dict[i] += 1\n",
    "        else:\n",
    "            ct_dict[i] = 1\n",
    "    return ct_dict\n",
    "\n",
    "my_list = \"the quick brown fox jumps over the lazy dog.\"\n",
    "count_w(my_list)"
   ]
  },
  {
   "cell_type": "markdown",
   "metadata": {},
   "source": [
    "Complete a function that returns a list containing all the mismatched words (case sensitive) between two given input strings # For example: string 1 : \"Firstly this is the first string\" # - string 2 : \"Next is the second string\" # # - output : ['Firstly', 'this', 'first', 'Next', 'second']"
   ]
  },
  {
   "cell_type": "code",
   "execution_count": 63,
   "metadata": {},
   "outputs": [
    {
     "data": {
      "text/plain": [
       "{'Firstly', 'Next', 'first', 'second', 'this'}"
      ]
     },
     "execution_count": 63,
     "metadata": {},
     "output_type": "execute_result"
    }
   ],
   "source": [
    "def non_common(A, B):\n",
    "    return set(A.split(' ')) ^ set(B.split(' '))\n",
    "\n",
    "s1 = \"Firstly this is the first string\"\n",
    "s2 = \"Next is the second string\"\n",
    "\n",
    "non_common(s1, s2)"
   ]
  },
  {
   "cell_type": "markdown",
   "metadata": {},
   "source": [
    "Given an array of integers, we would like to determine whether the array is monotonic (non-decreasing/non-increasing) or not. Examples:"
   ]
  },
  {
   "cell_type": "code",
   "execution_count": 64,
   "metadata": {},
   "outputs": [
    {
     "data": {
      "text/plain": [
       "True"
      ]
     },
     "execution_count": 64,
     "metadata": {},
     "output_type": "execute_result"
    }
   ],
   "source": [
    "def montonic(A):\n",
    "    return (all(A[i] >= A[i+1] for i in range(len(A)-1)) or all(A[i] <= A[i+1] for i in range(len(A)-1)))\n",
    "#     return (all(A[i] <= A[i+1] for i in range(len(A)-1)) or all(A[i] >= A[i+1] for i in range(len(A)-1)))\n",
    "s = [1, 2, 5, 5, 8]\n",
    "montonic(s)"
   ]
  },
  {
   "cell_type": "code",
   "execution_count": 130,
   "metadata": {},
   "outputs": [
    {
     "data": {
      "text/plain": [
       "False"
      ]
     },
     "execution_count": 130,
     "metadata": {},
     "output_type": "execute_result"
    }
   ],
   "source": [
    "def montonic(A):\n",
    "    return all(A[i] >= A[i+1] for i in range(len(A)-1)) or all(A[i] <= A[i+1] for i in range(len(A)-1))\n",
    "s = [9, 2, 5, 5, 8]\n",
    "montonic(s)"
   ]
  },
  {
   "cell_type": "code",
   "execution_count": 65,
   "metadata": {},
   "outputs": [
    {
     "name": "stdout",
     "output_type": "stream",
     "text": [
      "common words list:  {'string', 'is', 'the'}\n",
      "uncommon words list:  ['Firstly', 'Next', 'first', 'second', 'this']\n"
     ]
    }
   ],
   "source": [
    "string1 = \"Firstly this is the first string\"\n",
    "string2 = \"Next is the second string\"\n",
    "\n",
    "s1 = set(string1.split())\n",
    "s2 = set(string2.split())\n",
    "ls = sorted(s1.symmetric_difference(s2))\n",
    "print(\"common words list: \",s1&s2)\n",
    "print(\"uncommon words list: \",ls)"
   ]
  },
  {
   "cell_type": "code",
   "execution_count": 68,
   "metadata": {},
   "outputs": [
    {
     "data": {
      "text/plain": [
       "{'Firstly', 'Next', 'first', 'second', 'this'}"
      ]
     },
     "execution_count": 68,
     "metadata": {},
     "output_type": "execute_result"
    }
   ],
   "source": [
    "def uncommon(A, B):\n",
    "    return set(A.split(' ')) ^ set(B.split(' '))\n",
    "\n",
    "uncommon(string1, string2)"
   ]
  },
  {
   "cell_type": "markdown",
   "metadata": {},
   "source": [
    "Given an ip address as an input string, validate it and return True/False"
   ]
  },
  {
   "cell_type": "code",
   "execution_count": 238,
   "metadata": {},
   "outputs": [],
   "source": [
    "def isgoodipv4(s):\n",
    "    pieces = s.split('.')\n",
    "    if len(pieces) != 4: \n",
    "        return False\n",
    "    try: return all(0<=int(p)<256 for p in pieces)\n",
    "    except ValueError: \n",
    "        return False"
   ]
  },
  {
   "cell_type": "code",
   "execution_count": 413,
   "metadata": {},
   "outputs": [],
   "source": [
    "def validate_ip(s):\n",
    "    a = s.split('.')\n",
    "    if len(a) != 4:\n",
    "        return False\n",
    "    for x in a:\n",
    "        if not x.isdigit():\n",
    "            return False\n",
    "        i = int(x)\n",
    "        if i < 0 or i > 255:\n",
    "            return False\n",
    "    return True"
   ]
  },
  {
   "cell_type": "code",
   "execution_count": 137,
   "metadata": {},
   "outputs": [
    {
     "data": {
      "text/plain": [
       "False"
      ]
     },
     "execution_count": 137,
     "metadata": {},
     "output_type": "execute_result"
    }
   ],
   "source": [
    "def validate_ip(s):\n",
    "    a = s.split('.')\n",
    "    if len(a) != 4:\n",
    "        return False\n",
    "    for x in a:\n",
    "        if not x.isdigit():\n",
    "            return False\n",
    "        i = int(x)\n",
    "        if i <0 or i>255:\n",
    "            return False\n",
    "    return True\n",
    "ipv4 = \"192.168.2.266\"\n",
    "validate_ip(ipv4)"
   ]
  },
  {
   "cell_type": "code",
   "execution_count": 417,
   "metadata": {},
   "outputs": [],
   "source": [
    "ipv6 = \"2001:0db8:0a0b:12f0:0000:0000:0000:0001\"\n",
    "ipv4 = \"192.168.2.10\"\n",
    "ipv4invalid = \"266.255.9.10\"\n",
    "str = \"Tay Tay\""
   ]
  },
  {
   "cell_type": "code",
   "execution_count": 415,
   "metadata": {},
   "outputs": [
    {
     "data": {
      "text/plain": [
       "True"
      ]
     },
     "execution_count": 415,
     "metadata": {},
     "output_type": "execute_result"
    }
   ],
   "source": [
    "validate_ip(ipv4)"
   ]
  },
  {
   "cell_type": "code",
   "execution_count": 416,
   "metadata": {},
   "outputs": [
    {
     "data": {
      "text/plain": [
       "['192', '168', '2', '10']"
      ]
     },
     "execution_count": 416,
     "metadata": {},
     "output_type": "execute_result"
    }
   ],
   "source": [
    "ipv4 = \"192.168.2.10\"\n",
    "ipv4.split('.')"
   ]
  },
  {
   "cell_type": "markdown",
   "metadata": {},
   "source": [
    "13. want you to write me a simple spell checking engine.\n",
    "    The query language is a very simple regular expression-like language, with one special character: . (the dot character), which means EXACTLY ONE character (it can be any character). So, for example, 'c.t' would match 'cat' as the dot matches any character. There may be any number of dot characters in the query (or none).\n",
    "    Your spell checker will have to be optimized for speed, so you will have to write it in the required way. There would be a one-time setUp() function that does any pre-processing you require, and then there will be an isMatch() function that should run as fast as possible, utilizing that pre-processing.\n",
    "    There are some examples below, feel free to ask for clarification.\n",
    "    Word List: [cat, bat, rat, drat, dart, drab]\n",
    "    Queries:\n",
    "    cat -> true\n",
    "    c.t -> true\n",
    "    .at -> true\n",
    "    ..t -> true\n",
    "    d..t -> true\n",
    "    dr.. -> true\n",
    "    ... -> true\n",
    "    .... -> true\n",
    "    ..... -> false\n",
    "    h.t -> false\n",
    "    c. -> false\n",
    "    */\n",
    "    // write a function\n",
    "    // Struct setup(List<String> list_of_words)\n",
    "    // Do whatever processing you want here\n",
    "    // with reasonable efficiency.\n",
    "    // Return whatever data structures you want.\n",
    "    // This function will only run once\n",
    "    // write a function\n",
    "    // bool isMatch(Struct struct, String query)\n",
    "    // Returns whether the query is a match in the\n",
    "    // dictionary (True/False)"
   ]
  },
  {
   "cell_type": "code",
   "execution_count": 366,
   "metadata": {},
   "outputs": [
    {
     "name": "stdout",
     "output_type": "stream",
     "text": [
      "True\n"
     ]
    }
   ],
   "source": [
    "# one-time setUp() function that does any pre-processing you require\n",
    "def setUp(word, input_list):\n",
    "#     word = word.strip()\n",
    "    temp_list = []\n",
    "    Ismatch = False\n",
    "    if word in input_list:\n",
    "        Ismatch = True\n",
    "    elif word is None or len(word) == 0:\n",
    "        Ismatch = False\n",
    "    else:\n",
    "        for w in input_list:\n",
    "            if len(w) == len(word):\n",
    "                temp_list.append(w)\n",
    "                for j in range(len(temp_list)):\n",
    "                    count=0\n",
    "                    for i in range(len(word)):\n",
    "                        if word[i] == temp_list[j][i] or word[i] == '.':\n",
    "                            count += 1\n",
    "                        else:\n",
    "                            break\n",
    "                    if count == len(word):\n",
    "                        Ismatch = True\n",
    "    print(Ismatch)\n",
    "# there will be an isMatch() function that should run as fast as possible, utilizing that pre-processinG\n",
    "def isMatch(word, input_list):\n",
    "    return setUp(word, input_list)\n",
    "\n",
    "\n",
    "isMatch('c.t', ['cat', 'bte', 'art', 'drat', 'dart', 'drab'])"
   ]
  },
  {
   "cell_type": "code",
   "execution_count": 150,
   "metadata": {},
   "outputs": [
    {
     "name": "stdout",
     "output_type": "stream",
     "text": [
      "False\n"
     ]
    }
   ],
   "source": [
    "# one-time setUp() function that does any pre-processing you require\n",
    "def setUp(word, input_list):\n",
    "    temp_list = []\n",
    "    isMatch = False\n",
    "    if word in input_list:\n",
    "        isMatch = True\n",
    "    elif word is None:\n",
    "        isMatch is False\n",
    "    else:\n",
    "        for w in input_list:\n",
    "            if len(word) == len(w):\n",
    "                temp_list.append(w)\n",
    "                for j in range(len(temp_list)):\n",
    "                    ct = 0\n",
    "                    for i in range(len(word)):\n",
    "                        if word[i]==temp_list[j][i] or word[i] == '.':\n",
    "                            ct += 1\n",
    "                        else:\n",
    "                            break\n",
    "                    if len(word) == ct:\n",
    "                        isMatch = True\n",
    "    print(isMatch)\n",
    "# there will be an isMatch() function that should run as fast as possible, utilizing that pre-processing\n",
    "def isMatch(word, input_list):\n",
    "    return setUp(word, input_list)\n",
    "\n",
    "isMatch('.. .', ['cat', 'bte', 'art', 'drat', 'dart', 'drab'])"
   ]
  },
  {
   "cell_type": "code",
   "execution_count": 190,
   "metadata": {},
   "outputs": [],
   "source": [
    "def setUp(word, s):\n",
    "    temp = []\n",
    "    match = False\n",
    "    if word in s:\n",
    "        match = True\n",
    "    elif word is None:\n",
    "        match = False\n",
    "    else:\n",
    "        for w in s:\n",
    "            if len(w) == len(word):\n",
    "                temp.append(w)\n",
    "                for j in range(len(temp)):\n",
    "                    ct = 0\n",
    "                    for i in range(len(word)):\n",
    "                        if word[i] == temp[j][i] or word[i] == '.':\n",
    "                            ct += 1\n",
    "                        else:\n",
    "                            break\n",
    "                    if ct == len(word):\n",
    "                        match = True\n",
    "    return match\n",
    "    \n",
    "def isMatch(word, input_list):\n",
    "    return setUp(word, input_list)\n"
   ]
  },
  {
   "cell_type": "code",
   "execution_count": 191,
   "metadata": {},
   "outputs": [
    {
     "data": {
      "text/plain": [
       "False"
      ]
     },
     "execution_count": 191,
     "metadata": {},
     "output_type": "execute_result"
    }
   ],
   "source": [
    "isMatch('sssss', ['cat', 'bte', 'art', 'drat', 'dart', 'drab'])"
   ]
  },
  {
   "cell_type": "code",
   "execution_count": 412,
   "metadata": {},
   "outputs": [
    {
     "name": "stdout",
     "output_type": "stream",
     "text": [
      "None\n"
     ]
    }
   ],
   "source": [
    "# Avg length of words, some of the edge cases are having spaces in the beginning and end of the words, \n",
    "#returning a float instead of int, \n",
    "# returning None for blank input.\n",
    "ls = \"     \"\n",
    "\n",
    "def avg_len(ls):\n",
    "    if len(ls.strip()) == 0:\n",
    "        print(\"None\") \n",
    "    else:\n",
    "        res = [len(i) for i in ls.strip().split(' ')]\n",
    "        avg_len = sum(res)/float(len(res))\n",
    "        return avg_len\n",
    "\n",
    "avg_len(ls)"
   ]
  },
  {
   "cell_type": "code",
   "execution_count": 395,
   "metadata": {},
   "outputs": [
    {
     "data": {
      "text/plain": [
       "2"
      ]
     },
     "execution_count": 395,
     "metadata": {},
     "output_type": "execute_result"
    }
   ],
   "source": [
    "def ct_fre(c, st):\n",
    "    ct = 0\n",
    "    for i in range(len(st)):\n",
    "        if c == st[i]:\n",
    "            ct += 1\n",
    "    return ct\n",
    "\n",
    "ct_fre('s', 'ssky')"
   ]
  },
  {
   "cell_type": "code",
   "execution_count": null,
   "metadata": {},
   "outputs": [],
   "source": []
  },
  {
   "cell_type": "markdown",
   "metadata": {},
   "source": [
    "## 一亩三分地"
   ]
  },
  {
   "cell_type": "markdown",
   "metadata": {},
   "source": [
    "https://www.1point3acres.com/bbs/thread-663905-1-1.html"
   ]
  },
  {
   "cell_type": "code",
   "execution_count": 193,
   "metadata": {},
   "outputs": [
    {
     "data": {
      "text/plain": [
       "{4: 1, 6: 1}"
      ]
     },
     "execution_count": 193,
     "metadata": {},
     "output_type": "execute_result"
    }
   ],
   "source": [
    "mylist = [4, 5, 11, 5, 6, 11]\n",
    "\n",
    "def balance(ls):\n",
    "    occ_dict = {}\n",
    "    for i in ls:\n",
    "        if i in occ_dict:\n",
    "            occ_dict[i] += 1\n",
    "        else:\n",
    "            occ_dict[i] = 1\n",
    "#     print(occ_dict)\n",
    "    max_occ = max(occ_dict.items(), key = lambda x: x[1])[1]\n",
    "#     print(max_occ)\n",
    "    new_dict = {}\n",
    "    for k, v in occ_dict.items():\n",
    "        if v < max_occ:\n",
    "            new_dict[k] = max_occ - v\n",
    "    return new_dict\n",
    "\n",
    "balance(mylist)"
   ]
  },
  {
   "cell_type": "code",
   "execution_count": 311,
   "metadata": {},
   "outputs": [
    {
     "data": {
      "text/plain": [
       "{4: 1, 6: 1}"
      ]
     },
     "execution_count": 311,
     "metadata": {},
     "output_type": "execute_result"
    }
   ],
   "source": [
    "mylist = [4, 5, 11, 5, 6, 11]\n",
    "\n",
    "import collections\n",
    "def balance(ls):\n",
    "    occ_dict = dict(Counter(ls))\n",
    "    max_occ = max(Counter(ls).values())\n",
    "    new_dict = {}\n",
    "    for k, v in occ_dict.items():\n",
    "        if v < max_occ:\n",
    "            new_dict[k] = max_occ - v\n",
    "    return new_dict\n",
    "\n",
    "balance(mylist)"
   ]
  },
  {
   "cell_type": "code",
   "execution_count": 271,
   "metadata": {},
   "outputs": [
    {
     "data": {
      "text/plain": [
       "[1, 1, 1, 2, 2]"
      ]
     },
     "execution_count": 271,
     "metadata": {},
     "output_type": "execute_result"
    }
   ],
   "source": [
    "mylist = [1, None, 1, 2, None] \n",
    "\n",
    "def replaceNone(ls):\n",
    "    res = []\n",
    "    p = None\n",
    "    for i in ls:\n",
    "        if i is not None:\n",
    "            p = i\n",
    "            res.append(i)\n",
    "        else:\n",
    "            res.append(p)\n",
    "            \n",
    "    return res\n",
    "\n",
    "replaceNone(mylist)"
   ]
  },
  {
   "cell_type": "code",
   "execution_count": 70,
   "metadata": {},
   "outputs": [
    {
     "data": {
      "text/plain": [
       "{'ARE', 'HOW', 'How', 'are'}"
      ]
     },
     "execution_count": 70,
     "metadata": {},
     "output_type": "execute_result"
    }
   ],
   "source": [
    "A = \"HOW ARE you\" \n",
    "B =  \"How are you\"\n",
    "\n",
    "def mismatch(A, B):\n",
    "    return set(A.split(' ')) ^ set(B.split(' '))\n",
    "\n",
    "mismatch(A, B)"
   ]
  },
  {
   "cell_type": "code",
   "execution_count": 276,
   "metadata": {},
   "outputs": [
    {
     "data": {
      "text/plain": [
       "3"
      ]
     },
     "execution_count": 276,
     "metadata": {},
     "output_type": "execute_result"
    }
   ],
   "source": [
    "def occur(ls, l):\n",
    "    occ = 0\n",
    "    for i in ls:\n",
    "        if i == l:\n",
    "            occ+=1\n",
    "    return occ\n",
    "\n",
    "occur('missisipi', 's')"
   ]
  },
  {
   "cell_type": "markdown",
   "metadata": {},
   "source": [
    "Log: SL finished all 5 questions above within 20 min on 9/3/2021 3:09pm"
   ]
  },
  {
   "cell_type": "code",
   "execution_count": null,
   "metadata": {},
   "outputs": [],
   "source": [
    "select avg(\n",
    "    case\n",
    "    when promotion then 1\n",
    "    else 0\n",
    "    end) as percentage"
   ]
  },
  {
   "cell_type": "code",
   "execution_count": null,
   "metadata": {},
   "outputs": [],
   "source": [
    "select customer_id, case when product_id = 'A' then 1 else 0 end as product_a,\n",
    "case when product_id = 'B' then 1 else 0 \n",
    "end as product_b\n",
    "from\n",
    "group by customer_id\n",
    "having sum(product_a) > 0 and sum(product_b) > 0"
   ]
  },
  {
   "cell_type": "code",
   "execution_count": 281,
   "metadata": {},
   "outputs": [
    {
     "data": {
      "text/plain": [
       "1457.1000000000001"
      ]
     },
     "execution_count": 281,
     "metadata": {},
     "output_type": "execute_result"
    }
   ],
   "source": [
    "1619*0.9"
   ]
  },
  {
   "cell_type": "code",
   "execution_count": null,
   "metadata": {},
   "outputs": [],
   "source": []
  },
  {
   "cell_type": "markdown",
   "metadata": {},
   "source": [
    "## SQL"
   ]
  },
  {
   "cell_type": "markdown",
   "metadata": {},
   "source": [
    "https://leetcode.com/discuss/interview-question/807990/facebook-sql-questions-de"
   ]
  },
  {
   "cell_type": "code",
   "execution_count": null,
   "metadata": {},
   "outputs": [],
   "source": [
    "sales\n",
    "+------------------+---------\n",
    "| product_id | INTEGER\n",
    "| store_id | INTEGER |\n",
    "| customer_id | INTEGER |\n",
    "| promotion_id | INTEGER |\n",
    "| store_sales | DECIMAL |\n",
    "| store_cost | DECIMAL |\n",
    "| units_sold | DECIMAL |\n",
    "| transaction_date | DATE |\n",
    "\n",
    "products\n",
    "+------------------+---------\n",
    "| product_id | INTEGER |\n",
    "| product_class_id | INTEGER |\n",
    "| brand_name | VARCHAR |\n",
    "| product_name | VARCHAR |\n",
    "| is_low_fat_flg | TINYINT |\n",
    "| is_recyclable_flg | TINYINT |\n",
    "| gross_weight | DECIMAL |\n",
    "| net_weight | DECIMAL |\n",
    "\n",
    "promotions |\n",
    "+------------------+---------+\n",
    "| promotion_id | INTEGER|\n",
    "| promotion_name | VARCHAR |\n",
    "| media_type | VARCHAR |\n",
    "| cost | DECIMAL |\n",
    "| start_date | DATE |\n",
    "| end_date | DATE |\n",
    "\n",
    "product_classes\n",
    "+------------------+---------+\n",
    "| product_class_id | INTEGER |\n",
    "| product_subcategory | VARCHAR |\n",
    "| product_category | VARCHAR |\n",
    "| product_department | VARCHAR |\n",
    "| product_family | VARCHAR |"
   ]
  },
  {
   "cell_type": "markdown",
   "metadata": {},
   "source": [
    "1. What percent of all products in the grocery chain's catalog are both low fat and recyclable?"
   ]
  },
  {
   "cell_type": "code",
   "execution_count": null,
   "metadata": {},
   "outputs": [],
   "source": [
    "select count(case when is_low_fad_flg = 'Y' and is_recyclable_flg = 'Y' then prodeuct_id end)*100/count(product_id)\n",
    "as perctg\n",
    "from Products"
   ]
  },
  {
   "cell_type": "code",
   "execution_count": null,
   "metadata": {},
   "outputs": [],
   "source": [
    "select avg(case when is_low_fat = 'Y' and is_recyclabe_fls = 'Y' then 1 else 0 end) as avg from Products"
   ]
  },
  {
   "cell_type": "markdown",
   "metadata": {},
   "source": [
    "2. Find top 5 sales products having promotions"
   ]
  },
  {
   "cell_type": "code",
   "execution_count": null,
   "metadata": {},
   "outputs": [],
   "source": [
    "select product_id\n",
    "from sales\n",
    "where promotion_id is not null\n",
    "group by product_id\n",
    "order by sum(store_sales * units_sold) desc\n",
    "limit 5;"
   ]
  },
  {
   "cell_type": "markdown",
   "metadata": {},
   "source": [
    "3. what %age of sales happened on first and last day of the promotion\n",
    "Not sure if this asked for all promotions or % for each promotion. in case all "
   ]
  },
  {
   "cell_type": "markdown",
   "metadata": {},
   "source": [
    "Q:\n",
    "    请问是这个意思吗？\n",
    "在所有promotion的order中， 发生在promotion第一天和最后一天的比例？\n",
    "先inner join promotion和sales表, 得到所有的transactions with promotion，然后case when选出发生在第一天和最后一天的transaction, 再除以transactions with promotion的总数\n",
    "\n",
    "还是说，\n",
    "要求的是，（最后一天+第一天的transactions with promotion） / （最后一天和第一天所有的transactions，不考虑是否promotion）\n",
    "\n",
    "sorry感觉这个问题有点tricky，问得比较细。谢谢楼主的回答"
   ]
  },
  {
   "cell_type": "markdown",
   "metadata": {},
   "source": [
    "A:\n",
    "对，是前者，在所有promotion的order中，但这里不要用除法了，这个会被诟病的。用avg就好了"
   ]
  },
  {
   "cell_type": "code",
   "execution_count": null,
   "metadata": {},
   "outputs": [],
   "source": [
    "# Great solution using Avg in SQL + inner join\n",
    "\n",
    "select avg(case when s.transcation_date = min(p.start_date) or s.transcation_date = max(p.end_date) then 1 else 0 end)\n",
    "from sales s\n",
    "left join promotions p\n",
    "on s.product_id  = p.product_id\n",
    "where s.promotion_id is not null\n",
    "order by s.product_id;"
   ]
  },
  {
   "cell_type": "markdown",
   "metadata": {},
   "source": [
    "Q4. Which product had the highest sales with promotions and sales ( basically a where clause on 2 flags)"
   ]
  },
  {
   "cell_type": "code",
   "execution_count": null,
   "metadata": {},
   "outputs": [],
   "source": [
    "# The following answer makes more sense, it use store costs as promotion discount"
   ]
  },
  {
   "cell_type": "code",
   "execution_count": null,
   "metadata": {},
   "outputs": [],
   "source": [
    " select s.product_id, p.product_name, sum (s.store_cost * s.units_sold) \n",
    " from sales s, product p\n",
    " where s.product_id = p.product_id and s.product_id is not null\n",
    " group by s.product_id , p.product_name\n",
    " order by sum (s.store_cost * s.units_sold) desc;"
   ]
  },
  {
   "cell_type": "markdown",
   "metadata": {},
   "source": [
    "Q5. What are the top five (ranked in decreasing order) single-channel media types that correspond to the most money the grocery chain had spent on its promotional campaigns?"
   ]
  },
  {
   "cell_type": "code",
   "execution_count": null,
   "metadata": {},
   "outputs": [],
   "source": [
    "select media_type\n",
    "from promotions\n",
    "where media_type not like '%,%'\n",
    "group by media_type\n",
    "order by sum(cost) desc\n",
    "limit 5"
   ]
  },
  {
   "cell_type": "code",
   "execution_count": null,
   "metadata": {},
   "outputs": [],
   "source": [
    "select promotion_name, sum(cost) as total_cost\n",
    "from promotions\n",
    "where media_type not like '%,%'\n",
    "group by promotion_name\n",
    "order by total_cost desc\n",
    "limit 5"
   ]
  },
  {
   "cell_type": "code",
   "execution_count": null,
   "metadata": {},
   "outputs": [],
   "source": [
    "Q6. the proportion of valid sales that occurred on certain dates."
   ]
  },
  {
   "cell_type": "code",
   "execution_count": null,
   "metadata": {},
   "outputs": [],
   "source": [
    "select sum(case \n",
    "           when transcation_date = '2012-07-15'\n",
    "           then store_sales end)*100/float(sum(store_sales))\n",
    "from sales\n",
    "order by product_id;"
   ]
  },
  {
   "cell_type": "code",
   "execution_count": null,
   "metadata": {},
   "outputs": [],
   "source": [
    "select avg( case when transcation_date = '2021-07-15' then 1 else 0 end)\n",
    "from sales\n",
    "where promotion_id is not null\n",
    "order by promotion_id"
   ]
  },
  {
   "cell_type": "markdown",
   "metadata": {},
   "source": [
    "Q7. Manager want to analyze the how the promotions on certain products are performing.find how the the percent of promoted sales?\n",
    "\n",
    "# Method 1 using count\n",
    "count of promoted sales* 100 / count(*)"
   ]
  },
  {
   "cell_type": "code",
   "execution_count": null,
   "metadata": {},
   "outputs": [],
   "source": [
    "我在一道求percentage of promotion的题目纠结了很久，我之前给出的答案结构类似\n",
    "select(\n",
    "select count(promotion) / select count(*)\n",
    ") as percentage\n",
    "\n",
    "但是面试官更想看到的是case when只用one scan得到结果\n",
    "select avg(case when promotion then 1 else 0 end) as percentage"
   ]
  },
  {
   "cell_type": "code",
   "execution_count": 315,
   "metadata": {},
   "outputs": [
    {
     "data": {
      "text/plain": [
       "0.6666666666666666"
      ]
     },
     "execution_count": 315,
     "metadata": {},
     "output_type": "execute_result"
    }
   ],
   "source": [
    "import numpy as np\n",
    "promotion_list = [0, 1, 0, 1, 1, 1]\n",
    "np.mean(promotion_list)"
   ]
  },
  {
   "cell_type": "code",
   "execution_count": null,
   "metadata": {},
   "outputs": [],
   "source": [
    "# 1.Method using avg in SQL\n",
    "select avg(case\n",
    "           when promotion_id is not null \n",
    "           then 1 else 0 end) as percentage\n",
    "from sales\n",
    "order by product_id;"
   ]
  },
  {
   "cell_type": "code",
   "execution_count": null,
   "metadata": {},
   "outputs": [],
   "source": [
    "# 2. Method using sum/total\n",
    "select sum(case\n",
    "           when promotion_id is not null \n",
    "           then store_sales end)*100/float(sum(store_sales))\n",
    "from sales\n",
    "order by product_id;"
   ]
  },
  {
   "cell_type": "code",
   "execution_count": null,
   "metadata": {},
   "outputs": [],
   "source": [
    "Q8. Get the top3 product class_id by the total sales."
   ]
  },
  {
   "cell_type": "code",
   "execution_count": null,
   "metadata": {},
   "outputs": [],
   "source": [
    "select s.product_class_id \n",
    "from sales s\n",
    "left join products p\n",
    "where s.product_class_id = p.prodyct_class_id\n",
    "group by s.product_class_id\n",
    "order by sum(store_sales) desc\n",
    "limit 3\n"
   ]
  },
  {
   "cell_type": "code",
   "execution_count": null,
   "metadata": {},
   "outputs": [],
   "source": [
    "Q9: Count of Customers who bought 2 items type (A,B)\n",
    "还有一个题目关于选既买了A又买了B的顾客，instead of 先选除买A的顾客，在选出买B的顾客，然后算交集，大家可以想一下如何用case when一次把结果做出来。\n",
    "我的想法是："
   ]
  },
  {
   "cell_type": "code",
   "execution_count": null,
   "metadata": {},
   "outputs": [],
   "source": [
    "# Great solution!\n",
    "SELECT customer_id\n",
    "FROM Sales\n",
    "WHERE product_id IN('A', 'B')\n",
    "GROUP BY customer_id\n",
    "HAVING COUNT(DISTINCT product_id) = 2"
   ]
  },
  {
   "cell_type": "code",
   "execution_count": null,
   "metadata": {},
   "outputs": [],
   "source": [
    "select customer_id\n",
    "from sales\n",
    "where product_id in ('A', 'B')\n",
    "order by customer_id\n",
    "having count(distinct product_id) = 2"
   ]
  },
  {
   "cell_type": "code",
   "execution_count": null,
   "metadata": {},
   "outputs": [],
   "source": [
    "select customer_id,\n",
    "case when product_id = 'A' then 1 else 0 end as product_a,\n",
    "case when product_id = 'B' then 1 else 0 end as product_b\n",
    "from sales\n",
    "group by product_id\n",
    "having product_a > 0 and product_b > 0;"
   ]
  },
  {
   "cell_type": "code",
   "execution_count": null,
   "metadata": {},
   "outputs": [],
   "source": [
    "select ID from Orders o\n",
    "left join Salesperson s\n",
    "on s.ID = o.salesperson_id\n",
    "group by o.salesperson_id\n",
    "having count(o.Number) > 1\n"
   ]
  },
  {
   "cell_type": "markdown",
   "metadata": {},
   "source": [
    "## Codepad"
   ]
  },
  {
   "cell_type": "code",
   "execution_count": null,
   "metadata": {},
   "outputs": [],
   "source": [
    "\"\"\"\n",
    "Write a function that returns the elements on odd positions (0 based) in a list\n",
    "\"\"\"\n",
    "def solution(input):\n",
    "          #code goes here\n",
    "          return output"
   ]
  },
  {
   "cell_type": "code",
   "execution_count": 37,
   "metadata": {},
   "outputs": [],
   "source": [
    "def odd_ls(ls):\n",
    "    res = []\n",
    "    for i, j in enumerate(ls):\n",
    "        if i % 2 != 0:\n",
    "            res.append(j)\n",
    "    return res"
   ]
  },
  {
   "cell_type": "code",
   "execution_count": 38,
   "metadata": {},
   "outputs": [
    {
     "data": {
      "text/plain": [
       "[1, 3, 5]"
      ]
     },
     "execution_count": 38,
     "metadata": {},
     "output_type": "execute_result"
    }
   ],
   "source": [
    "odd_ls([0,1,2,3,4,5])"
   ]
  },
  {
   "cell_type": "code",
   "execution_count": 27,
   "metadata": {},
   "outputs": [
    {
     "data": {
      "text/plain": [
       "[1, 0, 3]"
      ]
     },
     "execution_count": 27,
     "metadata": {},
     "output_type": "execute_result"
    }
   ],
   "source": [
    "\"\"\"\n",
    "Write a function that takes a number and returns a list of its digits\n",
    "\"\"\"\n",
    "num = 103\n",
    "digits = [int(i) for i in str(num)]\n",
    "digits"
   ]
  },
  {
   "cell_type": "code",
   "execution_count": 34,
   "metadata": {},
   "outputs": [
    {
     "data": {
      "text/plain": [
       "-3.0"
      ]
     },
     "execution_count": 34,
     "metadata": {},
     "output_type": "execute_result"
    }
   ],
   "source": [
    "def centered_average(nums):\n",
    "    trim = sorted(nums)[1:-1]\n",
    "    return sum(trim) / len(trim)\n",
    "\n",
    "nums = [-10, -4, -2, -4, -2, 0]\n",
    "centered_average(nums)"
   ]
  },
  {
   "cell_type": "code",
   "execution_count": 33,
   "metadata": {},
   "outputs": [
    {
     "data": {
      "text/plain": [
       "5.2"
      ]
     },
     "execution_count": 33,
     "metadata": {},
     "output_type": "execute_result"
    }
   ],
   "source": [
    "import numpy\n",
    "numpy.mean([1, 5, 5, 8, 7])"
   ]
  },
  {
   "cell_type": "code",
   "execution_count": 36,
   "metadata": {},
   "outputs": [
    {
     "data": {
      "text/plain": [
       "[1, 2, 3]"
      ]
     },
     "execution_count": 36,
     "metadata": {},
     "output_type": "execute_result"
    }
   ],
   "source": [
    "def cum(ls):\n",
    "    new_ls = []\n",
    "    j =0\n",
    "    for i in range(len(ls)):\n",
    "        j = j + ls[i]\n",
    "        new_ls.append(j)\n",
    "    return new_ls\n",
    "\n",
    "cum([1,1,1])"
   ]
  },
  {
   "cell_type": "code",
   "execution_count": null,
   "metadata": {},
   "outputs": [],
   "source": [
    "## SQL\n",
    "\n",
    "select dictinct(s.Name)\n",
    "from Sales s\n",
    "join Orders o\n",
    "on s.ID = o.salesperson_id\n",
    "join Customer c\n",
    "on c.ID = o.cust_id\n",
    "where c.Name = 'Samsonic';\n"
   ]
  },
  {
   "cell_type": "code",
   "execution_count": null,
   "metadata": {},
   "outputs": [],
   "source": [
    "select dictinct(s.Name)\n",
    "from Salesperson s\n",
    "join Orders o\n",
    "on s.ID = o.salesperson_id\n",
    "join Customer c\n",
    "on c.ID = o.cust_id\n",
    "where NOT c.Name = 'Samsonic';"
   ]
  },
  {
   "cell_type": "code",
   "execution_count": null,
   "metadata": {},
   "outputs": [],
   "source": [
    "select s.Name\n",
    "from Orders o\n",
    "left join Salesperson s\n",
    "on s.ID = o.salesperson_id\n",
    "group by s.Name\n",
    "having count(o.number) >= 2;\n"
   ]
  },
  {
   "cell_type": "code",
   "execution_count": null,
   "metadata": {},
   "outputs": [],
   "source": [
    "select s.Name\n",
    "from Orders o\n",
    "left join Salesperson s\n",
    "on s.ID = o.salesperson_id\n",
    "group by s.Name\n",
    "having sum(o.Amount) > 1400"
   ]
  },
  {
   "cell_type": "code",
   "execution_count": null,
   "metadata": {},
   "outputs": [],
   "source": [
    "select min(o.order_date), max(o.order_date)\n",
    "from Orders o\n",
    "left join Salesperson s\n",
    "on s.ID = o.salesperson_id\n",
    "left join Customer s\n",
    "on c.ID = o.cust_id\n",
    "where c.Name = 'Samony'"
   ]
  },
  {
   "cell_type": "code",
   "execution_count": 72,
   "metadata": {},
   "outputs": [
    {
     "ename": "NameError",
     "evalue": "name 'Ne' is not defined",
     "output_type": "error",
     "traceback": [
      "\u001b[0;31m---------------------------------------------------------------------------\u001b[0m",
      "\u001b[0;31mNameError\u001b[0m                                 Traceback (most recent call last)",
      "\u001b[0;32m<ipython-input-72-e0ba0f20edd5>\u001b[0m in \u001b[0;36m<module>\u001b[0;34m\u001b[0m\n\u001b[1;32m      9\u001b[0m             \u001b[0mres\u001b[0m\u001b[0;34m.\u001b[0m\u001b[0mappend\u001b[0m\u001b[0;34m(\u001b[0m\u001b[0mprev\u001b[0m\u001b[0;34m)\u001b[0m\u001b[0;34m\u001b[0m\u001b[0;34m\u001b[0m\u001b[0m\n\u001b[1;32m     10\u001b[0m     \u001b[0;32mreturn\u001b[0m \u001b[0mres\u001b[0m\u001b[0;34m\u001b[0m\u001b[0;34m\u001b[0m\u001b[0m\n\u001b[0;32m---> 11\u001b[0;31m \u001b[0ma\u001b[0m \u001b[0;34m=\u001b[0m \u001b[0;34m[\u001b[0m\u001b[0;36m1\u001b[0m\u001b[0;34m,\u001b[0m \u001b[0;32mNone\u001b[0m\u001b[0;34m,\u001b[0m \u001b[0;36m2\u001b[0m\u001b[0;34m,\u001b[0m \u001b[0;32mNone\u001b[0m\u001b[0;34m,\u001b[0m \u001b[0;32mNone\u001b[0m\u001b[0;34m,\u001b[0m \u001b[0;36m5\u001b[0m\u001b[0;34m,\u001b[0m \u001b[0mNe\u001b[0m\u001b[0;34m]\u001b[0m\u001b[0;34m\u001b[0m\u001b[0;34m\u001b[0m\u001b[0m\n\u001b[0m\u001b[1;32m     12\u001b[0m \u001b[0mreplace_none\u001b[0m\u001b[0;34m(\u001b[0m\u001b[0ma\u001b[0m\u001b[0;34m)\u001b[0m\u001b[0;34m\u001b[0m\u001b[0;34m\u001b[0m\u001b[0m\n",
      "\u001b[0;31mNameError\u001b[0m: name 'Ne' is not defined"
     ]
    }
   ],
   "source": [
    "def replace_none(ls):\n",
    "    res = []\n",
    "    prev = None\n",
    "    for i in ls:\n",
    "        if i is not None:\n",
    "            i = prev\n",
    "            res.append(i)\n",
    "        else:\n",
    "            res.append(prev)\n",
    "    return res\n",
    "a = [1, None, 2, None, None, 5, Ne]\n",
    "replace_none(a)"
   ]
  },
  {
   "cell_type": "code",
   "execution_count": 81,
   "metadata": {},
   "outputs": [
    {
     "ename": "SyntaxError",
     "evalue": "invalid syntax (<ipython-input-81-152876403ba8>, line 6)",
     "output_type": "error",
     "traceback": [
      "\u001b[0;36m  File \u001b[0;32m\"<ipython-input-81-152876403ba8>\"\u001b[0;36m, line \u001b[0;32m6\u001b[0m\n\u001b[0;31m    if i is in occ_dt:\u001b[0m\n\u001b[0m             ^\u001b[0m\n\u001b[0;31mSyntaxError\u001b[0m\u001b[0;31m:\u001b[0m invalid syntax\n"
     ]
    }
   ],
   "source": [
    "nums = [1, 3, 4, 1, 7, 8, 3 , 2, 4, 5, 7, 2, 3, 5, 6, 4, 2, 8, 5]\n",
    "\n",
    "def balance(nums):\n",
    "    occ_dt = {}\n",
    "    for i in nums:\n",
    "        if i is in occ_dt:\n",
    "            occ_dt[i] +=1\n",
    "        if i is not in occ_dt:\n",
    "            occ_dt[i] = 1\n",
    "    max_occ = max(0cc_dt.items(), key = lambda x: x[1])[1]\n",
    "    new_dt = {}\n",
    "    for i in occ_dt:\n",
    "        if occ_dt[i] < max_occ:\n",
    "            new_dict[i] = max_occ - occ_dt[i]\n",
    "    return new_dt\n",
    "    "
   ]
  },
  {
   "cell_type": "code",
   "execution_count": 74,
   "metadata": {},
   "outputs": [
    {
     "data": {
      "text/plain": [
       "[1, 1, 2, 2, 2, 5, 5]"
      ]
     },
     "execution_count": 74,
     "metadata": {},
     "output_type": "execute_result"
    }
   ],
   "source": [
    "a = [1, None, 2, None, None, 5, None]\n",
    "\n",
    "def replace_none(ls):\n",
    "    prev = 0\n",
    "    res = []\n",
    "    for i in ls:\n",
    "        if i is not None:\n",
    "            prev = i\n",
    "            res.append(i)\n",
    "        else:\n",
    "            res.append(prev)\n",
    "    return res\n",
    "replace_none(a)"
   ]
  },
  {
   "cell_type": "code",
   "execution_count": 83,
   "metadata": {},
   "outputs": [
    {
     "data": {
      "text/plain": [
       "{1: 1, 7: 1, 8: 1, 6: 2}"
      ]
     },
     "execution_count": 83,
     "metadata": {},
     "output_type": "execute_result"
    }
   ],
   "source": [
    "nums = [1, 3, 4, 1, 7, 8, 3 , 2, 4, 5, 7, 2, 3, 5, 6, 4, 2, 8, 5]\n",
    "\n",
    "def balance_dt(ls):\n",
    "    if len(ls) == 0:\n",
    "        return None\n",
    "    occ = {}\n",
    "    for i in ls:\n",
    "        if i in occ:\n",
    "            occ[i] += 1\n",
    "        else:\n",
    "            occ[i] = 1\n",
    "    max_occ = max(occ.items(), key = lambda x: x[1])[1]\n",
    "    new_dt = {}\n",
    "    for k, v in occ.items():\n",
    "        if v < max_occ:\n",
    "            new_dt[k] = max_occ - v\n",
    "    return new_dt\n",
    "balance_dt(nums)"
   ]
  },
  {
   "cell_type": "code",
   "execution_count": 89,
   "metadata": {},
   "outputs": [
    {
     "name": "stdout",
     "output_type": "stream",
     "text": [
      "None\n"
     ]
    }
   ],
   "source": [
    "def avg_len(ls):\n",
    "    if len(ls) == 0:\n",
    "        return print('None')\n",
    "    else:\n",
    "        l = [len(i) for i in ls.strip().split(' ')]\n",
    "        avg_len = sum(l)/len(l)\n",
    "        return avg_len\n",
    "    \n",
    "ls = \"\"\n",
    "avg_len(ls)"
   ]
  },
  {
   "cell_type": "code",
   "execution_count": 107,
   "metadata": {},
   "outputs": [],
   "source": [
    "def uncommon(A, B):\n",
    "    return set(A.split(' ')) ^ set(B.split(' '))\n",
    "\n",
    "def uncommon(a, b):\n",
    "    list((set(a).union(set(b))).difference(set(a).intersection(set(b))))"
   ]
  },
  {
   "cell_type": "code",
   "execution_count": 105,
   "metadata": {},
   "outputs": [],
   "source": [
    "def uncommon(A, B):\n",
    "    a = A.split(' ')\n",
    "    b = B.split(' ')\n",
    "    return ((set(a)).union(set(b)).difference(set(b).intersection(set(b))))"
   ]
  },
  {
   "cell_type": "code",
   "execution_count": null,
   "metadata": {},
   "outputs": [],
   "source": []
  },
  {
   "cell_type": "code",
   "execution_count": null,
   "metadata": {},
   "outputs": [],
   "source": []
  },
  {
   "cell_type": "code",
   "execution_count": null,
   "metadata": {},
   "outputs": [],
   "source": []
  },
  {
   "cell_type": "code",
   "execution_count": null,
   "metadata": {},
   "outputs": [],
   "source": []
  },
  {
   "cell_type": "code",
   "execution_count": null,
   "metadata": {},
   "outputs": [],
   "source": []
  },
  {
   "cell_type": "code",
   "execution_count": null,
   "metadata": {},
   "outputs": [],
   "source": []
  },
  {
   "cell_type": "code",
   "execution_count": null,
   "metadata": {},
   "outputs": [],
   "source": []
  },
  {
   "cell_type": "code",
   "execution_count": null,
   "metadata": {},
   "outputs": [],
   "source": []
  },
  {
   "cell_type": "code",
   "execution_count": null,
   "metadata": {},
   "outputs": [],
   "source": []
  },
  {
   "cell_type": "code",
   "execution_count": null,
   "metadata": {},
   "outputs": [],
   "source": []
  },
  {
   "cell_type": "code",
   "execution_count": null,
   "metadata": {},
   "outputs": [],
   "source": []
  },
  {
   "cell_type": "code",
   "execution_count": null,
   "metadata": {},
   "outputs": [],
   "source": []
  },
  {
   "cell_type": "code",
   "execution_count": null,
   "metadata": {},
   "outputs": [],
   "source": []
  },
  {
   "cell_type": "code",
   "execution_count": null,
   "metadata": {},
   "outputs": [],
   "source": []
  },
  {
   "cell_type": "code",
   "execution_count": null,
   "metadata": {},
   "outputs": [],
   "source": []
  }
 ],
 "metadata": {
  "kernelspec": {
   "display_name": "Python 3",
   "language": "python",
   "name": "python3"
  },
  "language_info": {
   "codemirror_mode": {
    "name": "ipython",
    "version": 3
   },
   "file_extension": ".py",
   "mimetype": "text/x-python",
   "name": "python",
   "nbconvert_exporter": "python",
   "pygments_lexer": "ipython3",
   "version": "3.7.3"
  }
 },
 "nbformat": 4,
 "nbformat_minor": 2
}
